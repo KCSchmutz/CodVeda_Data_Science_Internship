{
 "cells": [
  {
   "cell_type": "markdown",
   "id": "ab4a487f",
   "metadata": {},
   "source": [
    "# <b><font color=\"X002FBC\">Level 1 (Task1)(Basic)</b>"
   ]
  },
  {
   "cell_type": "markdown",
   "id": "4fd993b4",
   "metadata": {},
   "source": [
    "<b><font size=\"6\" color=\"X04356A\">|1_1|Data_Collection_&_Web_Scraping</font></b>\n",
    "* **Author**: Karl Christiaan Schmutz\n",
    "* **Date**: 10-June-2025\n",
    "\n",
    "\n",
    "**Objectives:** \n",
    "\n",
    " - Identify a target website and inspect its structure.\n",
    " - Use BeautifulSoup and requests libraries to scrape data\n",
    "    from web pages.\n",
    " - Store the scraped data in a structured format (e.g., CSV,JSON).\n",
    " - Handle common challenges such as pagination and dynamic content.\n",
    " - <b><font size=\"3\" color=\"X220135\">Tools: Python, BeautifulSoup, requests, pandas.</font></b>"
   ]
  },
  {
   "cell_type": "markdown",
   "id": "98535c6c",
   "metadata": {},
   "source": [
    "#### Installing the libraries needed:"
   ]
  },
  {
   "cell_type": "code",
   "execution_count": null,
   "id": "46391951",
   "metadata": {
    "vscode": {
     "languageId": "powershell"
    }
   },
   "outputs": [
    {
     "name": "stdout",
     "output_type": "stream",
     "text": [
      "Note: you may need to restart the kernel to use updated packages.\n"
     ]
    },
    {
     "name": "stderr",
     "output_type": "stream",
     "text": [
      "ERROR: Could not find a version that satisfies the requirement Python (from versions: none)\n",
      "ERROR: No matching distribution found for Python\n"
     ]
    }
   ],
   "source": [
    "pip install python"
   ]
  },
  {
   "cell_type": "code",
   "execution_count": 5,
   "id": "19f94cdb",
   "metadata": {
    "vscode": {
     "languageId": "powershell"
    }
   },
   "outputs": [
    {
     "name": "stdout",
     "output_type": "stream",
     "text": [
      "Requirement already satisfied: BeautifulSoup4 in c:\\users\\karlc\\anaconda3\\envs\\mlg\\lib\\site-packages (4.13.4)\n",
      "Requirement already satisfied: soupsieve>1.2 in c:\\users\\karlc\\anaconda3\\envs\\mlg\\lib\\site-packages (from BeautifulSoup4) (2.7)\n",
      "Requirement already satisfied: typing-extensions>=4.0.0 in c:\\users\\karlc\\anaconda3\\envs\\mlg\\lib\\site-packages (from BeautifulSoup4) (4.14.1)\n",
      "Note: you may need to restart the kernel to use updated packages.\n"
     ]
    }
   ],
   "source": [
    "pip install BeautifulSoup4"
   ]
  },
  {
   "cell_type": "code",
   "execution_count": 6,
   "id": "f8ae3e59",
   "metadata": {
    "vscode": {
     "languageId": "powershell"
    }
   },
   "outputs": [
    {
     "name": "stdout",
     "output_type": "stream",
     "text": [
      "Requirement already satisfied: requests in c:\\users\\karlc\\anaconda3\\envs\\mlg\\lib\\site-packages (2.32.3)\n",
      "Requirement already satisfied: charset-normalizer<4,>=2 in c:\\users\\karlc\\anaconda3\\envs\\mlg\\lib\\site-packages (from requests) (3.3.2)\n",
      "Requirement already satisfied: idna<4,>=2.5 in c:\\users\\karlc\\anaconda3\\envs\\mlg\\lib\\site-packages (from requests) (3.7)\n",
      "Requirement already satisfied: urllib3<3,>=1.21.1 in c:\\users\\karlc\\anaconda3\\envs\\mlg\\lib\\site-packages (from requests) (2.3.0)\n",
      "Requirement already satisfied: certifi>=2017.4.17 in c:\\users\\karlc\\anaconda3\\envs\\mlg\\lib\\site-packages (from requests) (2025.6.15)\n",
      "Note: you may need to restart the kernel to use updated packages.\n"
     ]
    }
   ],
   "source": [
    "\n",
    "pip install requests"
   ]
  },
  {
   "cell_type": "markdown",
   "id": "20c4e533",
   "metadata": {},
   "source": [
    "pip install pandas"
   ]
  },
  {
   "cell_type": "markdown",
   "id": "81691af7",
   "metadata": {},
   "source": [
    "#### Identifying the target Website:"
   ]
  },
  {
   "cell_type": "code",
   "execution_count": null,
   "id": "ae013a1e",
   "metadata": {},
   "outputs": [
    {
     "name": "stdout",
     "output_type": "stream",
     "text": [
      "{'quote': ['“The world as we have created it is a process of our thinking. It cannot be changed without changing our thinking.”', '“It is our choices, Harry, that show what we truly are, far more than our abilities.”', '“There are only two ways to live your life. One is as though nothing is a miracle. The other is as though everything is a miracle.”', '“The person, be it gentleman or lady, who has not pleasure in a good novel, must be intolerably stupid.”', \"“Imperfection is beauty, madness is genius and it's better to be absolutely ridiculous than absolutely boring.”\", '“Try not to become a man of success. Rather become a man of value.”', '“It is better to be hated for what you are than to be loved for what you are not.”', \"“I have not failed. I've just found 10,000 ways that won't work.”\", \"“A woman is like a tea bag; you never know how strong it is until it's in hot water.”\", '“A day without sunshine is like, you know, night.”'], 'author': ['Albert Einstein', 'J.K. Rowling', 'Albert Einstein', 'Jane Austen', 'Marilyn Monroe', 'Albert Einstein', 'André Gide', 'Thomas A. Edison', 'Eleanor Roosevelt', 'Steve Martin']}\n"
     ]
    },
    {
     "ename": "TypeError",
     "evalue": "string indices must be integers",
     "output_type": "error",
     "traceback": [
      "\u001b[1;31m---------------------------------------------------------------------------\u001b[0m",
      "\u001b[1;31mTypeError\u001b[0m                                 Traceback (most recent call last)",
      "Cell \u001b[1;32mIn[33], line 27\u001b[0m\n\u001b[0;32m     25\u001b[0m \u001b[38;5;28mprint\u001b[39m(data)\n\u001b[0;32m     26\u001b[0m \u001b[38;5;28;01mfor\u001b[39;00m item \u001b[38;5;129;01min\u001b[39;00m data:\n\u001b[1;32m---> 27\u001b[0m     \u001b[38;5;28mprint\u001b[39m(\u001b[38;5;124mf\u001b[39m\u001b[38;5;124m\"\u001b[39m\u001b[38;5;124mQuote: \u001b[39m\u001b[38;5;132;01m{\u001b[39;00mitem[\u001b[38;5;124m'\u001b[39m\u001b[38;5;124mquote\u001b[39m\u001b[38;5;124m'\u001b[39m]\u001b[38;5;132;01m}\u001b[39;00m\u001b[38;5;124m, Author: \u001b[39m\u001b[38;5;132;01m{\u001b[39;00mitem[\u001b[38;5;124m'\u001b[39m\u001b[38;5;124mauthor\u001b[39m\u001b[38;5;124m'\u001b[39m]\u001b[38;5;132;01m}\u001b[39;00m\u001b[38;5;124m\"\u001b[39m)\n\u001b[0;32m     29\u001b[0m \u001b[38;5;66;03m# Saving the dataset to a CSV\u001b[39;00m\n\u001b[0;32m     30\u001b[0m colNames \u001b[38;5;241m=\u001b[39m [\u001b[38;5;124m'\u001b[39m\u001b[38;5;124mQuoteText\u001b[39m\u001b[38;5;124m'\u001b[39m, \u001b[38;5;124m'\u001b[39m\u001b[38;5;124mAuthor\u001b[39m\u001b[38;5;124m'\u001b[39m]\n",
      "\u001b[1;31mTypeError\u001b[0m: string indices must be integers"
     ]
    }
   ],
   "source": [
    "import requests\n",
    "from bs4 import BeautifulSoup\n",
    "\n",
    "# Get the target page from the desired URL, in this case \"Quotes to Scrape\" the first page.\n",
    "url = \"https://quotes.toscrape.com/page/1/\"\n",
    "response = requests.get(url)\n",
    "\n",
    "# Parse the HTML content of the page to the BeautifulSoup object\n",
    "soup = BeautifulSoup(response.content, 'html.parser')\n",
    "# Extracting the data of the dataset from the given URL elements\n",
    "quotes = []\n",
    "authors =[]\n",
    "words = soup.find_all('span', class_='text')  # Adjusted to find the correct class~for quotes \n",
    "names = soup.find_all('small', class_='author')  # Adjusted to find the correct class for authors\n",
    "for quote in words:\n",
    "    quotes.append(quote.text)\n",
    "for name in names:\n",
    "    authors.append(name.text)\n",
    "data = {\n",
    "    'Quote': quotes,\n",
    "    'Author': authors\n",
    "}\n",
    "\n",
    "# Printing the extracted data\n",
    "print(data)\n",
    "for item in data:\n",
    "    print(f\"Quote: {item[q]}, Author: {item['author']}\")\n",
    "\n",
    "# Saving the dataset to a CSV\n",
    "colNames = ['QuoteText', 'Author']\n",
    "\n"
   ]
  }
 ],
 "metadata": {
  "kernelspec": {
   "display_name": "MLG",
   "language": "python",
   "name": "python3"
  },
  "language_info": {
   "codemirror_mode": {
    "name": "ipython",
    "version": 3
   },
   "file_extension": ".py",
   "mimetype": "text/x-python",
   "name": "python",
   "nbconvert_exporter": "python",
   "pygments_lexer": "ipython3",
   "version": "3.10.13"
  }
 },
 "nbformat": 4,
 "nbformat_minor": 5
}
