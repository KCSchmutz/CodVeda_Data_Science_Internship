{
 "cells": [
  {
   "cell_type": "markdown",
   "id": "ab4a487f",
   "metadata": {},
   "source": [
    "# <b><font color=\"X002FBC\">Level 1 (Task1)(Basic)</b>"
   ]
  },
  {
   "cell_type": "markdown",
   "id": "4fd993b4",
   "metadata": {},
   "source": [
    "<b><font size=\"6\" color=\"X04356A\">|1_1|Data_Collection_&_Web_Scraping</font></b>\n",
    "* **Author**: Karl Christiaan Schmutz\n",
    "* **Date**: 10-June-2025\n",
    "\n",
    "\n",
    "**Objectives:** \n",
    "\n",
    " - Identify a target website and inspect its structure.\n",
    " - Use BeautifulSoup and requests libraries to scrape data\n",
    "    from web pages.\n",
    " - Store the scraped data in a structured format (e.g., CSV,JSON).\n",
    " - Handle common challenges such as pagination and dynamic content.\n",
    " - <b><font size=\"3\" color=\"X220135\">Tools: Python, BeautifulSoup, requests, pandas.</font></b>"
   ]
  },
  {
   "cell_type": "markdown",
   "id": "98535c6c",
   "metadata": {},
   "source": [
    "#### Installing the libraries needed:"
   ]
  },
  {
   "cell_type": "code",
   "execution_count": null,
   "id": "46391951",
   "metadata": {
    "vscode": {
     "languageId": "powershell"
    }
   },
   "outputs": [
    {
     "name": "stdout",
     "output_type": "stream",
     "text": [
      "Note: you may need to restart the kernel to use updated packages.\n"
     ]
    },
    {
     "name": "stderr",
     "output_type": "stream",
     "text": [
      "ERROR: Could not find a version that satisfies the requirement Python (from versions: none)\n",
      "ERROR: No matching distribution found for Python\n"
     ]
    }
   ],
   "source": [
    "pip install python"
   ]
  },
  {
   "cell_type": "code",
   "execution_count": 5,
   "id": "19f94cdb",
   "metadata": {
    "vscode": {
     "languageId": "powershell"
    }
   },
   "outputs": [
    {
     "name": "stdout",
     "output_type": "stream",
     "text": [
      "Requirement already satisfied: BeautifulSoup4 in c:\\users\\karlc\\anaconda3\\envs\\mlg\\lib\\site-packages (4.13.4)\n",
      "Requirement already satisfied: soupsieve>1.2 in c:\\users\\karlc\\anaconda3\\envs\\mlg\\lib\\site-packages (from BeautifulSoup4) (2.7)\n",
      "Requirement already satisfied: typing-extensions>=4.0.0 in c:\\users\\karlc\\anaconda3\\envs\\mlg\\lib\\site-packages (from BeautifulSoup4) (4.14.1)\n",
      "Note: you may need to restart the kernel to use updated packages.\n"
     ]
    }
   ],
   "source": [
    "pip install BeautifulSoup4"
   ]
  },
  {
   "cell_type": "code",
   "execution_count": 6,
   "id": "f8ae3e59",
   "metadata": {
    "vscode": {
     "languageId": "powershell"
    }
   },
   "outputs": [
    {
     "name": "stdout",
     "output_type": "stream",
     "text": [
      "Requirement already satisfied: requests in c:\\users\\karlc\\anaconda3\\envs\\mlg\\lib\\site-packages (2.32.3)\n",
      "Requirement already satisfied: charset-normalizer<4,>=2 in c:\\users\\karlc\\anaconda3\\envs\\mlg\\lib\\site-packages (from requests) (3.3.2)\n",
      "Requirement already satisfied: idna<4,>=2.5 in c:\\users\\karlc\\anaconda3\\envs\\mlg\\lib\\site-packages (from requests) (3.7)\n",
      "Requirement already satisfied: urllib3<3,>=1.21.1 in c:\\users\\karlc\\anaconda3\\envs\\mlg\\lib\\site-packages (from requests) (2.3.0)\n",
      "Requirement already satisfied: certifi>=2017.4.17 in c:\\users\\karlc\\anaconda3\\envs\\mlg\\lib\\site-packages (from requests) (2025.6.15)\n",
      "Note: you may need to restart the kernel to use updated packages.\n"
     ]
    }
   ],
   "source": [
    "\n",
    "pip install requests"
   ]
  },
  {
   "cell_type": "markdown",
   "id": "20c4e533",
   "metadata": {},
   "source": [
    "pip install pandas"
   ]
  },
  {
   "cell_type": "markdown",
   "id": "81691af7",
   "metadata": {},
   "source": [
    "#### Identifying the target Website:"
   ]
  },
  {
   "cell_type": "code",
   "execution_count": 1,
   "id": "ae013a1e",
   "metadata": {},
   "outputs": [
    {
     "name": "stdout",
     "output_type": "stream",
     "text": [
      "[<div id=\"root\">\n",
      "<script nonce=\"VKZ4/dotTRETqCB8w7Q/Ig==\" type=\"text/x-mathjax-config\">\n",
      "    MathJax.Hub.Config({\n",
      "    jax: ['input/TeX', 'output/SVG'],\n",
      "    \"HTML-CSS\": {\n",
      "    preferredFont: \"TeX\",\n",
      "    availableFonts: [\"STIX\", \"TeX\"],\n",
      "    linebreaks: {\n",
      "    automatic: true\n",
      "    },\n",
      "    EqnChunk: (MathJax.Hub.Browser.isMobile ? 10 : 50)\n",
      "    },\n",
      "    tex2jax: {\n",
      "    inlineMath: [[\"\\\\(\", \"\\\\)\"], [\"\\\\\\\\(\", \"\\\\\\\\)\"]],\n",
      "    displayMath: [[\"$$\", \"$$\"], [\"\\\\[\", \"\\\\]\"]],\n",
      "    processEscapes: true,\n",
      "    ignoreClass: \"tex2jax_ignore|dno\"\n",
      "    },\n",
      "    TeX: {\n",
      "    noUndefined: {\n",
      "    attributes: {\n",
      "    mathcolor: \"red\",\n",
      "    mathbackground: \"#FFEEEE\",\n",
      "    mathsize: \"90%\"\n",
      "    }\n",
      "    }\n",
      "    },\n",
      "    Macros: {\n",
      "    href: \"{}\"\n",
      "    },\n",
      "    skipStartupTypeset: true,\n",
      "    messageStyle: \"none\",\n",
      "    extensions: [\"Safe.js\"],\n",
      "    });\n",
      "</script>\n",
      "<script nonce=\"VKZ4/dotTRETqCB8w7Q/Ig==\" type=\"text/javascript\">\n",
      "  window.addEventListener(\"DOMContentLoaded\", () => {\n",
      "    const head = document.getElementsByTagName(\"head\")[0];\n",
      "    const lib = document.createElement(\"script\");\n",
      "    lib.type = \"text/javascript\";\n",
      "    // Always use the production asset in local dev, which is served from GCS. We tried to proxy and / or serve this\n",
      "    // in a better way in localhost, but it didn't work out. See b/328073416#comment8 for details.\n",
      "    const forceProdHost = window.location.hostname === \"localhost\";\n",
      "    lib.src = `${forceProdHost ? \"https://www.kaggle.com\" : \"\"}/static/mathjax/2.7.9/MathJax.js?config=TeX-AMS_SVG`;\n",
      "    head.appendChild(lib);\n",
      "  });\n",
      "</script>\n",
      "</div>]\n"
     ]
    }
   ],
   "source": [
    "import requests\n",
    "from bs4 import BeautifulSoup\n",
    "import csv\n",
    "import scrapy\n",
    "# Get the target page from the desired URL, in this case \"Top Funding Startups in India\", on Kaggle.\n",
    "url = \"https://www.kaggle.com/code/codename007/top-funding-startups-in-india/input\"\n",
    "response = requests.get(url)\n",
    "\n",
    "# Parse the HTML content of the page to the BeautifulSoup object\n",
    "soup = BeautifulSoup(response.content, 'html.parser')\n",
    "# Extracting the data of the dataset from the given URL table\n",
    "data = []\n",
    "root = soup.find_all('div')\n",
    "dataSRC = soup.find(id=\"data\")\n",
    "#table = root.find('div', class_='sc-cIFneI gInnhD') \n",
    "#rows = root.find_all('span', class_='sc-iMGFoU iLsOEd') \n",
    "for item in root:\n",
    "#    col = item.find('tr', class_='sc-ecUgJr sc-byGDCm dJZjxK kkCaGg')\n",
    "    data.append(item.text)\n",
    "#startupRows = table.find_all('tr', class_='sc-ilnnPk sc-kCzuPb dSkrLE fZfyBh')\n",
    "#for item in startupRows:\n",
    "    #data.append(item.text)\n",
    "print(root)\n",
    "# Saving the dataset to a CSV\n",
    "colNames = ['SNo', 'Date', 'StartUpName', 'IndustryVertical', 'SubVertical', 'CityLocation', 'InvestorsName', 'InvestmentType', 'AmountInUSD', 'Remarks']\n",
    "with open('startup_funding.csv', 'w', newline='') as file:\n",
    "    writer = csv.writer(file)\n",
    "    writer.writerow([[d] for d in colNames])\n",
    "    writer.writerows([[d] for d in data])\n",
    "\n",
    "#Scrapy\n",
    "class ExampleSpider(scrapy.Spider):\n",
    "    name = \"startup_funding\"\n",
    "    start_urls = ['https://www.kaggle.com/code/codename007/top-funding-startups-in-india?select=startup_funding.csv']\n",
    "    def parse(self, response):\n",
    "        for startup in response.css('span.(sc-iMGFoU iLsOEd)'):\n",
    "            yield {\n",
    "                'SNo': startup.css('tr.(sc-ilnnPk sc-hfsVOy dSkrLE flFuEv) td.text::text').get(),\n",
    "                'Date': startup.css('tr.(sc-ilnnPk sc-hfsVOy dSkrLE flFuEv) td.text::text').get(),\n",
    "                'StartUpName': startup.css('tr.(sc-ilnnPk sc-hfsVOy dSkrLE flFuEv) td.text::text').get(),\n",
    "                'IndustryVertical': startup.css('tr.(sc-ilnnPk sc-hfsVOy dSkrLE flFuEv) td.text::text').get(),\n",
    "                'SubVertical': startup.css('tr.(sc-ilnnPk sc-hfsVOy dSkrLE flFuEv) td.text::text').get(),\n",
    "                'CityLocation': startup.css('tr.(sc-ilnnPk sc-hfsVOy dSkrLE flFuEv) td.text::text').get(),\n",
    "                'InvestorsName': startup.css('tr.(sc-ilnnPk sc-hfsVOy dSkrLE flFuEv) td.text::text').get(),\n",
    "                'InvestmentType': startup.css('tr.(sc-ilnnPk sc-hfsVOy dSkrLE flFuEv) td.text::text').get(),\n",
    "                'AmountInUSD': startup.css('tr.(sc-ilnnPk sc-hfsVOy dSkrLE flFuEv) td.text::text').get(),\n",
    "                'Remarks': startup.css('tr.(sc-ilnnPk sc-hfsVOy dSkrLE flFuEv) td.text::text').get(),\n",
    "            }\n",
    "\n",
    "#scrapy crawl startup_funding\n",
    "\n"
   ]
  },
  {
   "cell_type": "code",
   "execution_count": 8,
   "id": "516450f6",
   "metadata": {},
   "outputs": [
    {
     "ename": "AttributeError",
     "evalue": "'HTTPConnection' object has no attribute 'rfind'",
     "output_type": "error",
     "traceback": [
      "\u001b[1;31m---------------------------------------------------------------------------\u001b[0m",
      "\u001b[1;31mAttributeError\u001b[0m                            Traceback (most recent call last)",
      "Cell \u001b[1;32mIn[8], line 16\u001b[0m\n\u001b[0;32m     14\u001b[0m     conn \u001b[38;5;241m=\u001b[39m http\u001b[38;5;241m.\u001b[39mclient\u001b[38;5;241m.\u001b[39mHTTPConnection(\u001b[38;5;124mf\u001b[39m\u001b[38;5;124m\"\u001b[39m\u001b[38;5;132;01m{\u001b[39;00mhost\u001b[38;5;132;01m}\u001b[39;00m\u001b[38;5;124m:\u001b[39m\u001b[38;5;132;01m{\u001b[39;00mport\u001b[38;5;132;01m}\u001b[39;00m\u001b[38;5;124m\"\u001b[39m)\n\u001b[0;32m     15\u001b[0m     \u001b[38;5;28;01mreturn\u001b[39;00m conn\n\u001b[1;32m---> 16\u001b[0m conn \u001b[38;5;241m=\u001b[39m \u001b[43mhttp\u001b[49m\u001b[38;5;241;43m.\u001b[39;49m\u001b[43mclient\u001b[49m\u001b[38;5;241;43m.\u001b[39;49m\u001b[43mHTTPSConnection\u001b[49m\u001b[43m(\u001b[49m\u001b[43mcreate_localhost_connection\u001b[49m\u001b[43m(\u001b[49m\u001b[43mport\u001b[49m\u001b[38;5;241;43m=\u001b[39;49m\u001b[38;5;241;43m8000\u001b[39;49m\u001b[43m)\u001b[49m\u001b[43m)\u001b[49m\n\u001b[0;32m     17\u001b[0m payload \u001b[38;5;241m=\u001b[39m json\u001b[38;5;241m.\u001b[39mdumps({\n\u001b[0;32m     18\u001b[0m    \u001b[38;5;124m\"\u001b[39m\u001b[38;5;124mactor\u001b[39m\u001b[38;5;124m\"\u001b[39m: \u001b[38;5;124m\"\u001b[39m\u001b[38;5;124mscraper.amazon\u001b[39m\u001b[38;5;124m\"\u001b[39m,\n\u001b[0;32m     19\u001b[0m    \u001b[38;5;124m\"\u001b[39m\u001b[38;5;124minput\u001b[39m\u001b[38;5;124m\"\u001b[39m: {\n\u001b[1;32m   (...)\u001b[0m\n\u001b[0;32m     22\u001b[0m    }\n\u001b[0;32m     23\u001b[0m })\n\u001b[0;32m     24\u001b[0m headers \u001b[38;5;241m=\u001b[39m {\n\u001b[0;32m     25\u001b[0m    \u001b[38;5;124m'\u001b[39m\u001b[38;5;124mContent-Type\u001b[39m\u001b[38;5;124m'\u001b[39m: \u001b[38;5;124m'\u001b[39m\u001b[38;5;124mapplication/json\u001b[39m\u001b[38;5;124m'\u001b[39m\n\u001b[0;32m     26\u001b[0m }\n",
      "File \u001b[1;32mc:\\Users\\karlc\\anaconda3\\envs\\MLG\\lib\\http\\client.py:1410\u001b[0m, in \u001b[0;36mHTTPSConnection.__init__\u001b[1;34m(self, host, port, key_file, cert_file, timeout, source_address, context, check_hostname, blocksize)\u001b[0m\n\u001b[0;32m   1406\u001b[0m \u001b[38;5;28;01mdef\u001b[39;00m\u001b[38;5;250m \u001b[39m\u001b[38;5;21m__init__\u001b[39m(\u001b[38;5;28mself\u001b[39m, host, port\u001b[38;5;241m=\u001b[39m\u001b[38;5;28;01mNone\u001b[39;00m, key_file\u001b[38;5;241m=\u001b[39m\u001b[38;5;28;01mNone\u001b[39;00m, cert_file\u001b[38;5;241m=\u001b[39m\u001b[38;5;28;01mNone\u001b[39;00m,\n\u001b[0;32m   1407\u001b[0m              timeout\u001b[38;5;241m=\u001b[39msocket\u001b[38;5;241m.\u001b[39m_GLOBAL_DEFAULT_TIMEOUT,\n\u001b[0;32m   1408\u001b[0m              source_address\u001b[38;5;241m=\u001b[39m\u001b[38;5;28;01mNone\u001b[39;00m, \u001b[38;5;241m*\u001b[39m, context\u001b[38;5;241m=\u001b[39m\u001b[38;5;28;01mNone\u001b[39;00m,\n\u001b[0;32m   1409\u001b[0m              check_hostname\u001b[38;5;241m=\u001b[39m\u001b[38;5;28;01mNone\u001b[39;00m, blocksize\u001b[38;5;241m=\u001b[39m\u001b[38;5;241m8192\u001b[39m):\n\u001b[1;32m-> 1410\u001b[0m     \u001b[38;5;28;43msuper\u001b[39;49m\u001b[43m(\u001b[49m\u001b[43mHTTPSConnection\u001b[49m\u001b[43m,\u001b[49m\u001b[43m \u001b[49m\u001b[38;5;28;43mself\u001b[39;49m\u001b[43m)\u001b[49m\u001b[38;5;241;43m.\u001b[39;49m\u001b[38;5;21;43m__init__\u001b[39;49m\u001b[43m(\u001b[49m\u001b[43mhost\u001b[49m\u001b[43m,\u001b[49m\u001b[43m \u001b[49m\u001b[43mport\u001b[49m\u001b[43m,\u001b[49m\u001b[43m \u001b[49m\u001b[43mtimeout\u001b[49m\u001b[43m,\u001b[49m\n\u001b[0;32m   1411\u001b[0m \u001b[43m                                          \u001b[49m\u001b[43msource_address\u001b[49m\u001b[43m,\u001b[49m\n\u001b[0;32m   1412\u001b[0m \u001b[43m                                          \u001b[49m\u001b[43mblocksize\u001b[49m\u001b[38;5;241;43m=\u001b[39;49m\u001b[43mblocksize\u001b[49m\u001b[43m)\u001b[49m\n\u001b[0;32m   1413\u001b[0m     \u001b[38;5;28;01mif\u001b[39;00m (key_file \u001b[38;5;129;01mis\u001b[39;00m \u001b[38;5;129;01mnot\u001b[39;00m \u001b[38;5;28;01mNone\u001b[39;00m \u001b[38;5;129;01mor\u001b[39;00m cert_file \u001b[38;5;129;01mis\u001b[39;00m \u001b[38;5;129;01mnot\u001b[39;00m \u001b[38;5;28;01mNone\u001b[39;00m \u001b[38;5;129;01mor\u001b[39;00m\n\u001b[0;32m   1414\u001b[0m                 check_hostname \u001b[38;5;129;01mis\u001b[39;00m \u001b[38;5;129;01mnot\u001b[39;00m \u001b[38;5;28;01mNone\u001b[39;00m):\n\u001b[0;32m   1415\u001b[0m         \u001b[38;5;28;01mimport\u001b[39;00m\u001b[38;5;250m \u001b[39m\u001b[38;5;21;01mwarnings\u001b[39;00m\n",
      "File \u001b[1;32mc:\\Users\\karlc\\anaconda3\\envs\\MLG\\lib\\http\\client.py:852\u001b[0m, in \u001b[0;36mHTTPConnection.__init__\u001b[1;34m(self, host, port, timeout, source_address, blocksize)\u001b[0m\n\u001b[0;32m    849\u001b[0m \u001b[38;5;28mself\u001b[39m\u001b[38;5;241m.\u001b[39m_tunnel_port \u001b[38;5;241m=\u001b[39m \u001b[38;5;28;01mNone\u001b[39;00m\n\u001b[0;32m    850\u001b[0m \u001b[38;5;28mself\u001b[39m\u001b[38;5;241m.\u001b[39m_tunnel_headers \u001b[38;5;241m=\u001b[39m {}\n\u001b[1;32m--> 852\u001b[0m (\u001b[38;5;28mself\u001b[39m\u001b[38;5;241m.\u001b[39mhost, \u001b[38;5;28mself\u001b[39m\u001b[38;5;241m.\u001b[39mport) \u001b[38;5;241m=\u001b[39m \u001b[38;5;28;43mself\u001b[39;49m\u001b[38;5;241;43m.\u001b[39;49m\u001b[43m_get_hostport\u001b[49m\u001b[43m(\u001b[49m\u001b[43mhost\u001b[49m\u001b[43m,\u001b[49m\u001b[43m \u001b[49m\u001b[43mport\u001b[49m\u001b[43m)\u001b[49m\n\u001b[0;32m    854\u001b[0m \u001b[38;5;28mself\u001b[39m\u001b[38;5;241m.\u001b[39m_validate_host(\u001b[38;5;28mself\u001b[39m\u001b[38;5;241m.\u001b[39mhost)\n\u001b[0;32m    856\u001b[0m \u001b[38;5;66;03m# This is stored as an instance variable to allow unit\u001b[39;00m\n\u001b[0;32m    857\u001b[0m \u001b[38;5;66;03m# tests to replace it with a suitable mockup\u001b[39;00m\n",
      "File \u001b[1;32mc:\\Users\\karlc\\anaconda3\\envs\\MLG\\lib\\http\\client.py:886\u001b[0m, in \u001b[0;36mHTTPConnection._get_hostport\u001b[1;34m(self, host, port)\u001b[0m\n\u001b[0;32m    884\u001b[0m \u001b[38;5;28;01mdef\u001b[39;00m\u001b[38;5;250m \u001b[39m\u001b[38;5;21m_get_hostport\u001b[39m(\u001b[38;5;28mself\u001b[39m, host, port):\n\u001b[0;32m    885\u001b[0m     \u001b[38;5;28;01mif\u001b[39;00m port \u001b[38;5;129;01mis\u001b[39;00m \u001b[38;5;28;01mNone\u001b[39;00m:\n\u001b[1;32m--> 886\u001b[0m         i \u001b[38;5;241m=\u001b[39m \u001b[43mhost\u001b[49m\u001b[38;5;241;43m.\u001b[39;49m\u001b[43mrfind\u001b[49m(\u001b[38;5;124m'\u001b[39m\u001b[38;5;124m:\u001b[39m\u001b[38;5;124m'\u001b[39m)\n\u001b[0;32m    887\u001b[0m         j \u001b[38;5;241m=\u001b[39m host\u001b[38;5;241m.\u001b[39mrfind(\u001b[38;5;124m'\u001b[39m\u001b[38;5;124m]\u001b[39m\u001b[38;5;124m'\u001b[39m)         \u001b[38;5;66;03m# ipv6 addresses have [...]\u001b[39;00m\n\u001b[0;32m    888\u001b[0m         \u001b[38;5;28;01mif\u001b[39;00m i \u001b[38;5;241m>\u001b[39m j:\n",
      "\u001b[1;31mAttributeError\u001b[0m: 'HTTPConnection' object has no attribute 'rfind'"
     ]
    }
   ],
   "source": [
    "import http.client\n",
    "import json\n",
    "def create_localhost_connection(port=8000, host=\"localhost\"):\n",
    "    \"\"\"\n",
    "    Create an HTTP connection to localhost.\n",
    "    \n",
    "    Args:\n",
    "        port (int): The port number where your local server is running (default: 8000)\n",
    "        host (str): The hostname (default: \"localhost\")\n",
    "    \n",
    "    Returns:\n",
    "        http.client.HTTPConnection: Connection object for localhost\n",
    "    \"\"\"\n",
    "    conn = http.client.HTTPConnection(f\"{host}:{port}\")\n",
    "    return conn\n",
    "conn = http.client.HTTPSConnection(create_localhost_connection(port=8000))\n",
    "payload = json.dumps({\n",
    "   \"actor\": \"scraper.amazon\",\n",
    "   \"input\": {\n",
    "      \"url\": \"https://www.kaggle.com/code/codename007/top-funding-startups-in-india\",\n",
    "      \"action\": \"input\"\n",
    "   }\n",
    "})\n",
    "headers = {\n",
    "   'Content-Type': 'application/json'\n",
    "}\n",
    "conn.request(\"POST\", \"/api/v1/scraper/request\", payload, headers)\n",
    "res = conn.getresponse()\n",
    "data = res.read()\n",
    "print(data.decode(\"utf-8\"))"
   ]
  }
 ],
 "metadata": {
  "kernelspec": {
   "display_name": "MLG",
   "language": "python",
   "name": "python3"
  },
  "language_info": {
   "codemirror_mode": {
    "name": "ipython",
    "version": 3
   },
   "file_extension": ".py",
   "mimetype": "text/x-python",
   "name": "python",
   "nbconvert_exporter": "python",
   "pygments_lexer": "ipython3",
   "version": "3.10.13"
  }
 },
 "nbformat": 4,
 "nbformat_minor": 5
}
